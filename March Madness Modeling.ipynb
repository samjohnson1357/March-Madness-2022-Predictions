{
 "cells": [
  {
   "cell_type": "markdown",
   "id": "58e5e1d1-6fdf-49fd-a414-75b8b08768da",
   "metadata": {
    "tags": []
   },
   "source": [
    "# March Madness Modeling\n",
    "\n",
    "https://www.kaggle.com/c/mens-march-mania-2022\n",
    "\n",
    "**Not particularly useful for our analysis:**\n",
    "* pd.read_csv('MTeams.csv')\n",
    "* pd.read_csv('MSeasons.csv')\n",
    "* pd.read_csv('Cities.csv')\n",
    "* pd.read_csv('MGameCities.csv')\n",
    "* pd.read_csv('Conferences.csv')\n",
    "* pd.read_csv('MTeamCoaches.csv')\n",
    "* pd.read_csv('MTeamConferences.csv')\n",
    "* pd.read_csv('MSecondaryTourneyTeams.csv')\n",
    "* pd.read_csv('MSecondaryTourneyCompactResults.csv')\n",
    "\n",
    "## Overall Plan:\n",
    "\n",
    "The submission needs to contain every possible matchup for the last five years.\n",
    "\n",
    "Create a dataframe of predictor variables for each team for each year.\n",
    "\n",
    "The predictor variables will include the following:\n",
    "\n",
    "* The seed at the end of the regular season.\n",
    "\n",
    "Use the MRegularSeasonDetailedResults to create the following dataset.\n",
    "\n",
    "Each feature will simply be the value of the team minus the corresponding value of the other team.\n",
    "\n",
    "Note that we actually have to make two entries for each sample in the dataset.\n",
    "\n",
    "**Here is the first entry:**\n",
    "\n",
    "**Winning Team Entry**\n",
    "* Season = Season\n",
    "* DayNum = DayNum\n",
    "* TeamID = WTeamID\n",
    "* score = WScore - LScore\n",
    "* field-goal-pct = (WFGM / WFGA) - (LFGM / LFGA)\n",
    "* three-point-pct = (WFGM3 / WFGA3) - (LFGM3 / LFGA3)\n",
    "* free-throw-pct = (WFTM / WFTA) - (LFTM / LFTA)\n",
    "* off-rebounds = WOR - LOR\n",
    "* def-rebounds = WDR - LDR\n",
    "* assists = WAst - LAst\n",
    "* turnovers = WTO - LTO\n",
    "* steals = WStl - LStl\n",
    "* blocks = WBlk - LBlk\n",
    "* fouls = WPF - LPF\n",
    "* won = 1\n",
    "\n",
    "**Losing Team Entry**\n",
    "* Season = Season\n",
    "* DayNum = DayNum\n",
    "* TeamID = LTeamID\n",
    "* score = LScore - WScore\n",
    "* field-goal-pct = (LFGM / LFGA) - (WFGM / WFGA)\n",
    "* three-point-pct = (LFGM3 / LFGA3) - (WFGM3 / WFGA3)\n",
    "* free-throw-pct = (LFTM / LFTA) - (WFTM / WFTA)\n",
    "* off-rebounds = LOR - WOR\n",
    "* def-rebounds = LDR - WDR\n",
    "* assists = LAst - WAst\n",
    "* turnovers = LTO - WTO\n",
    "* steals = LStl - WStl\n",
    "* blocks = LBlk - WBlk\n",
    "* fouls = LPF - WPF\n",
    "* won = 0\n",
    "\n",
    "At this point we have created two entries for every row in the MRegularSeasonDetailedResults dataset. We aggregate the data for each team for each year. Then we create a weighted average of the results with the most recent results being weighed more highly. We now have just one row per team per year.  \n",
    "\n",
    "To that resulting row we add the seed for each team from 'MNCAATourneySeeds.csv'.\n",
    "\n",
    "Then we add the ranking for each team from 'MMasseyOrdinals.csv'. We grab the ranking from the RankingDayNum is equal to 133.\n",
    "\n",
    "Now we need to bring the tournament results into the mix. There are two teams for each game in the tournament. Each team has a set of variables resulting from the regular season. To lower the number of attributes we subtract one set of variables from the other. Then, we can perform the classification. "
   ]
  },
  {
   "cell_type": "code",
   "execution_count": 7,
   "id": "c608b092-9b01-4b84-bf0c-86f352f36bec",
   "metadata": {},
   "outputs": [],
   "source": [
    "import pandas as pd\n",
    "import os"
   ]
  },
  {
   "cell_type": "code",
   "execution_count": 8,
   "id": "729034a1-ab0b-452c-8513-1775ca67afd0",
   "metadata": {},
   "outputs": [
    {
     "name": "stdout",
     "output_type": "stream",
     "text": [
      "['538ratingsMen.csv', 'Cities.csv', 'Conferences.csv', 'MConferenceTourneyGames.csv', 'MGameCities.csv', 'MMasseyOrdinals.csv', 'MNCAATourneyCompactResults.csv', 'MNCAATourneyDetailedResults.csv', 'MNCAATourneySeedRoundSlots.csv', 'MNCAATourneySeeds.csv', 'MNCAATourneySlots.csv', 'MRegularSeasonCompactResults.csv', 'MRegularSeasonDetailedResults.csv', 'MSampleSubmissionStage1.csv', 'MSeasons.csv', 'MSecondaryTourneyCompactResults.csv', 'MSecondaryTourneyTeams.csv', 'MTeamCoaches.csv', 'MTeamConferences.csv', 'MTeams.csv', 'MTeamSpellings.csv', 'Random Predictions.csv', 'submission.csv']\n"
     ]
    }
   ],
   "source": [
    "files = [ file for file in os.listdir() if file.endswith('.csv') ]\n",
    "print(files)"
   ]
  },
  {
   "cell_type": "markdown",
   "id": "e55c613e-c1c6-4f71-ae32-513b583eed34",
   "metadata": {},
   "source": [
    "## Creating features from regular season"
   ]
  },
  {
   "cell_type": "code",
   "execution_count": 9,
   "id": "9be3cad7-4f7e-43d0-85f6-c176c6892d38",
   "metadata": {},
   "outputs": [],
   "source": [
    "# Useful for our analysis.\n",
    "regResults = pd.read_csv('MRegularSeasonDetailedResults.csv')"
   ]
  },
  {
   "cell_type": "code",
   "execution_count": 10,
   "id": "ce511406-61a6-49f1-92e1-1e179e872a4e",
   "metadata": {},
   "outputs": [],
   "source": [
    "def divideByZero(n1, n2):\n",
    "    if n2 == 0:\n",
    "        return 0\n",
    "    else:\n",
    "        return n1 / n2"
   ]
  },
  {
   "cell_type": "code",
   "execution_count": 11,
   "id": "5dd73a97-c2c9-4bb8-9b64-352b3600a927",
   "metadata": {},
   "outputs": [],
   "source": [
    "nestedList = []\n",
    "\n",
    "for label, row in regResults.iterrows():\n",
    "    \n",
    "    # Values corresponding to both winning and losing rows.\n",
    "    winFieldGoalPct = divideByZero(row['WFGM'], row['WFGA'])\n",
    "    loseFieldGoalPct = divideByZero(row['LFGM'], row['LFGA'])\n",
    "    winThreePointPct = divideByZero(row['WFGM3'], row['WFGA3'])\n",
    "    loseThreePointPct = divideByZero(row['LFGM3'], row['LFGA3'])\n",
    "    winFreeThrowPct = divideByZero(row['WFTM'], row['WFTA'])\n",
    "    loseFreeThrowPct = divideByZero(row['LFTM'], row['LFTA'])\n",
    "    \n",
    "    # We create a row for the winning team.\n",
    "    score = row['WScore'] - row['LScore']\n",
    "    fieldGoalPct = winFieldGoalPct - loseFieldGoalPct\n",
    "    threePointPct = winThreePointPct - loseThreePointPct\n",
    "    freeThrowPct = winFreeThrowPct - loseFreeThrowPct\n",
    "    offRebounds = row['WOR'] - row['LOR']\n",
    "    defRebounds = row['WDR'] - row['LDR']\n",
    "    assists = row['WAst'] - row['LAst']\n",
    "    turnovers = row['WTO'] - row['LTO']\n",
    "    steals = row['WStl'] - row['LStl']\n",
    "    blocks = row['WBlk'] - row['LBlk']\n",
    "    fouls = row['WPF'] - row['LPF']\n",
    "    won = 1\n",
    "    \n",
    "    winValues = [ row['Season'], row['DayNum'], row['WTeamID'], score, fieldGoalPct, \n",
    "                 threePointPct, freeThrowPct, offRebounds, defRebounds, assists, turnovers,\n",
    "                 steals, blocks, fouls, won ]\n",
    "    \n",
    "    nestedList.append(winValues)\n",
    "    \n",
    "    \n",
    "    # We create a row for the losing team.\n",
    "    score = row['LScore'] - row['WScore']\n",
    "    fieldGoalPct = loseFieldGoalPct - winFieldGoalPct\n",
    "    threePointPct = loseThreePointPct - winThreePointPct\n",
    "    freeThrowPct = loseFreeThrowPct - winFreeThrowPct\n",
    "    offRebounds = row['LOR'] - row['WOR']\n",
    "    defRebounds = row['LDR'] - row['WDR']\n",
    "    assists = row['LAst'] - row['WAst']\n",
    "    turnovers = row['LTO'] - row['WTO']\n",
    "    steals = row['LStl'] - row['WStl']\n",
    "    blocks = row['LBlk'] - row['WBlk']\n",
    "    fouls = row['LPF'] - row['WPF']\n",
    "    won = 0\n",
    "    \n",
    "    loseValues = [ row['Season'], row['DayNum'], row['LTeamID'], score, fieldGoalPct, \n",
    "                 threePointPct, freeThrowPct, offRebounds, defRebounds, assists, turnovers,\n",
    "                 steals, blocks, fouls, won ]\n",
    "    \n",
    "    nestedList.append(loseValues)"
   ]
  },
  {
   "cell_type": "code",
   "execution_count": 12,
   "id": "6465c203-29d6-4445-8c61-35947b689fe1",
   "metadata": {},
   "outputs": [],
   "source": [
    "colNames = ['Season', 'DayNum', 'TeamID', 'score', 'field-goal-pct', 'three-point-pct',\n",
    "           'free-throw-pct', 'off-rebounds', 'def-rebounds', 'assists', 'turnovers', \n",
    "           'steals', 'blocks', 'fouls', 'won']\n",
    "\n",
    "df = pd.DataFrame(data=nestedList, columns=colNames)"
   ]
  },
  {
   "cell_type": "code",
   "execution_count": 13,
   "id": "c3187e01-50f0-4be8-8359-53c403d583f5",
   "metadata": {},
   "outputs": [],
   "source": [
    "def getExponentialAverage(series, alpha):\n",
    "    if len(series) == 0:\n",
    "        print(series)\n",
    "        raise Exception('The series has length 0')\n",
    "    return series.mean()\n",
    "    # return series.ewm(alpha=alpha).mean().iloc[-1]"
   ]
  },
  {
   "cell_type": "code",
   "execution_count": 14,
   "id": "8ad4f330-7666-4821-a9fd-cb2844488ce2",
   "metadata": {},
   "outputs": [],
   "source": [
    "groupedData = df.groupby(['Season', 'TeamID']).apply(getExponentialAverage, 0.05)"
   ]
  },
  {
   "cell_type": "code",
   "execution_count": 15,
   "id": "04c2352a-239f-4695-8bda-d526e7ef03df",
   "metadata": {},
   "outputs": [],
   "source": [
    "# Useful for our analysis.\n",
    "tourneyResults = pd.read_csv('MNCAATourneyDetailedResults.csv')\n",
    "\n",
    "# We create a new dataset with rows for both winners and losers.\n",
    "nestedList = []\n",
    "\n",
    "for index, row in tourneyResults[ ['Season', 'WTeamID', 'LTeamID'] ].iterrows():\n",
    "    \n",
    "    # Create the winning row with season, team, other team, and won.\n",
    "    winValues = [ row['Season'], row['WTeamID'], row['LTeamID'], 1 ]\n",
    "    \n",
    "    # Create the losing row with the same values.\n",
    "    loseValues = [ row['Season'], row['LTeamID'], row['WTeamID'], 0 ]\n",
    "    \n",
    "    nestedList.append(winValues)\n",
    "    nestedList.append(loseValues)\n",
    "    \n",
    "tourneyLabels = pd.DataFrame(data=nestedList, columns=['Season', 'TeamID', 'OtherTeam', 'Won'])"
   ]
  },
  {
   "cell_type": "code",
   "execution_count": 16,
   "id": "12507f70-4a35-4233-ae67-cf307efe7494",
   "metadata": {
    "tags": []
   },
   "outputs": [
    {
     "data": {
      "text/html": [
       "<div>\n",
       "<style scoped>\n",
       "    .dataframe tbody tr th:only-of-type {\n",
       "        vertical-align: middle;\n",
       "    }\n",
       "\n",
       "    .dataframe tbody tr th {\n",
       "        vertical-align: top;\n",
       "    }\n",
       "\n",
       "    .dataframe thead th {\n",
       "        text-align: right;\n",
       "    }\n",
       "</style>\n",
       "<table border=\"1\" class=\"dataframe\">\n",
       "  <thead>\n",
       "    <tr style=\"text-align: right;\">\n",
       "      <th></th>\n",
       "      <th></th>\n",
       "      <th>DayNum</th>\n",
       "      <th>score</th>\n",
       "      <th>field-goal-pct</th>\n",
       "      <th>three-point-pct</th>\n",
       "      <th>free-throw-pct</th>\n",
       "      <th>off-rebounds</th>\n",
       "      <th>def-rebounds</th>\n",
       "      <th>assists</th>\n",
       "      <th>turnovers</th>\n",
       "      <th>steals</th>\n",
       "      <th>blocks</th>\n",
       "      <th>fouls</th>\n",
       "      <th>won</th>\n",
       "    </tr>\n",
       "    <tr>\n",
       "      <th>Season</th>\n",
       "      <th>TeamID</th>\n",
       "      <th></th>\n",
       "      <th></th>\n",
       "      <th></th>\n",
       "      <th></th>\n",
       "      <th></th>\n",
       "      <th></th>\n",
       "      <th></th>\n",
       "      <th></th>\n",
       "      <th></th>\n",
       "      <th></th>\n",
       "      <th></th>\n",
       "      <th></th>\n",
       "      <th></th>\n",
       "    </tr>\n",
       "  </thead>\n",
       "  <tbody>\n",
       "    <tr>\n",
       "      <th rowspan=\"5\" valign=\"top\">2003</th>\n",
       "      <th>1102</th>\n",
       "      <td>72.464286</td>\n",
       "      <td>0.250000</td>\n",
       "      <td>0.028111</td>\n",
       "      <td>-0.012117</td>\n",
       "      <td>-0.077060</td>\n",
       "      <td>-5.428571</td>\n",
       "      <td>-3.321429</td>\n",
       "      <td>3.857143</td>\n",
       "      <td>-1.535714</td>\n",
       "      <td>0.535714</td>\n",
       "      <td>0.214286</td>\n",
       "      <td>0.392857</td>\n",
       "      <td>0.428571</td>\n",
       "    </tr>\n",
       "    <tr>\n",
       "      <th>1103</th>\n",
       "      <td>76.962963</td>\n",
       "      <td>0.629630</td>\n",
       "      <td>-0.002750</td>\n",
       "      <td>-0.037976</td>\n",
       "      <td>-0.000390</td>\n",
       "      <td>-2.259259</td>\n",
       "      <td>-2.111111</td>\n",
       "      <td>-0.259259</td>\n",
       "      <td>-2.703704</td>\n",
       "      <td>0.851852</td>\n",
       "      <td>-0.518519</td>\n",
       "      <td>-2.592593</td>\n",
       "      <td>0.481481</td>\n",
       "    </tr>\n",
       "    <tr>\n",
       "      <th>1104</th>\n",
       "      <td>72.571429</td>\n",
       "      <td>4.285714</td>\n",
       "      <td>-0.002721</td>\n",
       "      <td>-0.005527</td>\n",
       "      <td>-0.007429</td>\n",
       "      <td>2.678571</td>\n",
       "      <td>1.285714</td>\n",
       "      <td>0.428571</td>\n",
       "      <td>-0.571429</td>\n",
       "      <td>1.071429</td>\n",
       "      <td>0.607143</td>\n",
       "      <td>-1.214286</td>\n",
       "      <td>0.607143</td>\n",
       "    </tr>\n",
       "    <tr>\n",
       "      <th>1105</th>\n",
       "      <td>78.307692</td>\n",
       "      <td>-4.884615</td>\n",
       "      <td>-0.060278</td>\n",
       "      <td>0.004001</td>\n",
       "      <td>0.039882</td>\n",
       "      <td>0.307692</td>\n",
       "      <td>-3.269231</td>\n",
       "      <td>-1.269231</td>\n",
       "      <td>-0.153846</td>\n",
       "      <td>-0.076923</td>\n",
       "      <td>-2.115385</td>\n",
       "      <td>1.153846</td>\n",
       "      <td>0.269231</td>\n",
       "    </tr>\n",
       "    <tr>\n",
       "      <th>1106</th>\n",
       "      <td>74.000000</td>\n",
       "      <td>-0.142857</td>\n",
       "      <td>0.016981</td>\n",
       "      <td>0.051340</td>\n",
       "      <td>-0.088576</td>\n",
       "      <td>0.964286</td>\n",
       "      <td>1.500000</td>\n",
       "      <td>-0.107143</td>\n",
       "      <td>1.964286</td>\n",
       "      <td>-0.428571</td>\n",
       "      <td>-0.035714</td>\n",
       "      <td>2.035714</td>\n",
       "      <td>0.464286</td>\n",
       "    </tr>\n",
       "  </tbody>\n",
       "</table>\n",
       "</div>"
      ],
      "text/plain": [
       "                  DayNum     score  field-goal-pct  three-point-pct  \\\n",
       "Season TeamID                                                         \n",
       "2003   1102    72.464286  0.250000        0.028111        -0.012117   \n",
       "       1103    76.962963  0.629630       -0.002750        -0.037976   \n",
       "       1104    72.571429  4.285714       -0.002721        -0.005527   \n",
       "       1105    78.307692 -4.884615       -0.060278         0.004001   \n",
       "       1106    74.000000 -0.142857        0.016981         0.051340   \n",
       "\n",
       "               free-throw-pct  off-rebounds  def-rebounds   assists  \\\n",
       "Season TeamID                                                         \n",
       "2003   1102         -0.077060     -5.428571     -3.321429  3.857143   \n",
       "       1103         -0.000390     -2.259259     -2.111111 -0.259259   \n",
       "       1104         -0.007429      2.678571      1.285714  0.428571   \n",
       "       1105          0.039882      0.307692     -3.269231 -1.269231   \n",
       "       1106         -0.088576      0.964286      1.500000 -0.107143   \n",
       "\n",
       "               turnovers    steals    blocks     fouls       won  \n",
       "Season TeamID                                                     \n",
       "2003   1102    -1.535714  0.535714  0.214286  0.392857  0.428571  \n",
       "       1103    -2.703704  0.851852 -0.518519 -2.592593  0.481481  \n",
       "       1104    -0.571429  1.071429  0.607143 -1.214286  0.607143  \n",
       "       1105    -0.153846 -0.076923 -2.115385  1.153846  0.269231  \n",
       "       1106     1.964286 -0.428571 -0.035714  2.035714  0.464286  "
      ]
     },
     "execution_count": 16,
     "metadata": {},
     "output_type": "execute_result"
    }
   ],
   "source": [
    "groupedData.drop(columns=['TeamID', 'Season'], inplace=True)\n",
    "# groupedData.reset_index(inplace=True)\n",
    "groupedData.head()"
   ]
  },
  {
   "cell_type": "code",
   "execution_count": 17,
   "id": "9fc77afa-9634-4547-b919-d24d56958db7",
   "metadata": {},
   "outputs": [],
   "source": [
    "nestedList = []\n",
    "\n",
    "# For each row here we need to obtain the two matching rows in the groupedData table.\n",
    "# One of the rows must subtract the other.\n",
    "for index, row in tourneyLabels.iterrows():\n",
    "    \n",
    "    season = row['Season']\n",
    "    teamID = row['TeamID']\n",
    "    otherTeam = row['OtherTeam']\n",
    "    \n",
    "    firstTeamData = groupedData.loc[ (season, teamID) ]\n",
    "    secondTeamData = groupedData.loc[ (season, otherTeam) ]\n",
    "    \n",
    "    # Collect the difference of the first team minus the second team.\n",
    "    data = (firstTeamData - secondTeamData).values[1:]\n",
    "    nestedList.append(data)"
   ]
  },
  {
   "cell_type": "code",
   "execution_count": 18,
   "id": "e5f1a453-b8ce-47ab-b35c-0624f978f835",
   "metadata": {},
   "outputs": [],
   "source": [
    "newGroupedDf = pd.DataFrame(nestedList, columns=groupedData.columns[1:])\n",
    "finalDf = pd.concat([tourneyLabels, newGroupedDf], axis=1)"
   ]
  },
  {
   "cell_type": "markdown",
   "id": "82feb88d-39b8-4dea-b172-02ca55610e28",
   "metadata": {},
   "source": [
    "## Parsing Seeds"
   ]
  },
  {
   "cell_type": "code",
   "execution_count": 19,
   "id": "edf6b8e8-4a74-4748-922d-2f8e7d2a1fce",
   "metadata": {},
   "outputs": [
    {
     "data": {
      "text/html": [
       "<div>\n",
       "<style scoped>\n",
       "    .dataframe tbody tr th:only-of-type {\n",
       "        vertical-align: middle;\n",
       "    }\n",
       "\n",
       "    .dataframe tbody tr th {\n",
       "        vertical-align: top;\n",
       "    }\n",
       "\n",
       "    .dataframe thead th {\n",
       "        text-align: right;\n",
       "    }\n",
       "</style>\n",
       "<table border=\"1\" class=\"dataframe\">\n",
       "  <thead>\n",
       "    <tr style=\"text-align: right;\">\n",
       "      <th></th>\n",
       "      <th>Season</th>\n",
       "      <th>Seed</th>\n",
       "      <th>TeamID</th>\n",
       "    </tr>\n",
       "  </thead>\n",
       "  <tbody>\n",
       "    <tr>\n",
       "      <th>0</th>\n",
       "      <td>1985</td>\n",
       "      <td>W01</td>\n",
       "      <td>1207</td>\n",
       "    </tr>\n",
       "    <tr>\n",
       "      <th>1</th>\n",
       "      <td>1985</td>\n",
       "      <td>W02</td>\n",
       "      <td>1210</td>\n",
       "    </tr>\n",
       "    <tr>\n",
       "      <th>2</th>\n",
       "      <td>1985</td>\n",
       "      <td>W03</td>\n",
       "      <td>1228</td>\n",
       "    </tr>\n",
       "    <tr>\n",
       "      <th>3</th>\n",
       "      <td>1985</td>\n",
       "      <td>W04</td>\n",
       "      <td>1260</td>\n",
       "    </tr>\n",
       "    <tr>\n",
       "      <th>4</th>\n",
       "      <td>1985</td>\n",
       "      <td>W05</td>\n",
       "      <td>1374</td>\n",
       "    </tr>\n",
       "    <tr>\n",
       "      <th>...</th>\n",
       "      <td>...</td>\n",
       "      <td>...</td>\n",
       "      <td>...</td>\n",
       "    </tr>\n",
       "    <tr>\n",
       "      <th>2349</th>\n",
       "      <td>2021</td>\n",
       "      <td>Z12</td>\n",
       "      <td>1457</td>\n",
       "    </tr>\n",
       "    <tr>\n",
       "      <th>2350</th>\n",
       "      <td>2021</td>\n",
       "      <td>Z13</td>\n",
       "      <td>1317</td>\n",
       "    </tr>\n",
       "    <tr>\n",
       "      <th>2351</th>\n",
       "      <td>2021</td>\n",
       "      <td>Z14</td>\n",
       "      <td>1159</td>\n",
       "    </tr>\n",
       "    <tr>\n",
       "      <th>2352</th>\n",
       "      <td>2021</td>\n",
       "      <td>Z15</td>\n",
       "      <td>1331</td>\n",
       "    </tr>\n",
       "    <tr>\n",
       "      <th>2353</th>\n",
       "      <td>2021</td>\n",
       "      <td>Z16</td>\n",
       "      <td>1216</td>\n",
       "    </tr>\n",
       "  </tbody>\n",
       "</table>\n",
       "<p>2354 rows × 3 columns</p>\n",
       "</div>"
      ],
      "text/plain": [
       "      Season Seed  TeamID\n",
       "0       1985  W01    1207\n",
       "1       1985  W02    1210\n",
       "2       1985  W03    1228\n",
       "3       1985  W04    1260\n",
       "4       1985  W05    1374\n",
       "...      ...  ...     ...\n",
       "2349    2021  Z12    1457\n",
       "2350    2021  Z13    1317\n",
       "2351    2021  Z14    1159\n",
       "2352    2021  Z15    1331\n",
       "2353    2021  Z16    1216\n",
       "\n",
       "[2354 rows x 3 columns]"
      ]
     },
     "execution_count": 19,
     "metadata": {},
     "output_type": "execute_result"
    }
   ],
   "source": [
    "seeds = pd.read_csv('MNCAATourneySeeds.csv')\n",
    "seeds"
   ]
  },
  {
   "cell_type": "code",
   "execution_count": 20,
   "id": "0da59b87-4e6d-4adb-8f47-798941ce5f11",
   "metadata": {},
   "outputs": [],
   "source": [
    "# We obtain the seed for each team.\n",
    "import string\n",
    "\n",
    "newSeeds = []\n",
    "for seed in seeds['Seed']:\n",
    "    \n",
    "    # Remove the first letter from the seed.\n",
    "    newSeed = seed[1:]\n",
    "    \n",
    "    # Some of them have a letter at the end that we need to remove.\n",
    "    if newSeed[-1] in string.ascii_lowercase:\n",
    "        newSeed = newSeed[:-1]\n",
    "        \n",
    "    newSeed = int(newSeed)\n",
    "    newSeeds.append(newSeed)\n",
    "    \n",
    "seeds['Seed'] = newSeeds"
   ]
  },
  {
   "cell_type": "code",
   "execution_count": 21,
   "id": "ebc5308f-69b0-410c-b90f-8d805fb305f6",
   "metadata": {},
   "outputs": [
    {
     "data": {
      "text/html": [
       "<div>\n",
       "<style scoped>\n",
       "    .dataframe tbody tr th:only-of-type {\n",
       "        vertical-align: middle;\n",
       "    }\n",
       "\n",
       "    .dataframe tbody tr th {\n",
       "        vertical-align: top;\n",
       "    }\n",
       "\n",
       "    .dataframe thead th {\n",
       "        text-align: right;\n",
       "    }\n",
       "</style>\n",
       "<table border=\"1\" class=\"dataframe\">\n",
       "  <thead>\n",
       "    <tr style=\"text-align: right;\">\n",
       "      <th></th>\n",
       "      <th>Season</th>\n",
       "      <th>Seed</th>\n",
       "      <th>TeamID</th>\n",
       "    </tr>\n",
       "  </thead>\n",
       "  <tbody>\n",
       "    <tr>\n",
       "      <th>0</th>\n",
       "      <td>1985</td>\n",
       "      <td>1</td>\n",
       "      <td>1207</td>\n",
       "    </tr>\n",
       "    <tr>\n",
       "      <th>1</th>\n",
       "      <td>1985</td>\n",
       "      <td>2</td>\n",
       "      <td>1210</td>\n",
       "    </tr>\n",
       "    <tr>\n",
       "      <th>2</th>\n",
       "      <td>1985</td>\n",
       "      <td>3</td>\n",
       "      <td>1228</td>\n",
       "    </tr>\n",
       "    <tr>\n",
       "      <th>3</th>\n",
       "      <td>1985</td>\n",
       "      <td>4</td>\n",
       "      <td>1260</td>\n",
       "    </tr>\n",
       "    <tr>\n",
       "      <th>4</th>\n",
       "      <td>1985</td>\n",
       "      <td>5</td>\n",
       "      <td>1374</td>\n",
       "    </tr>\n",
       "  </tbody>\n",
       "</table>\n",
       "</div>"
      ],
      "text/plain": [
       "   Season  Seed  TeamID\n",
       "0    1985     1    1207\n",
       "1    1985     2    1210\n",
       "2    1985     3    1228\n",
       "3    1985     4    1260\n",
       "4    1985     5    1374"
      ]
     },
     "execution_count": 21,
     "metadata": {},
     "output_type": "execute_result"
    }
   ],
   "source": [
    "seeds.head()"
   ]
  },
  {
   "cell_type": "code",
   "execution_count": 22,
   "id": "9451cd72-dcda-47c3-b8b5-723a66350193",
   "metadata": {},
   "outputs": [],
   "source": [
    "finalDf = finalDf.merge(seeds, on=['Season', 'TeamID'], how='inner')"
   ]
  },
  {
   "cell_type": "code",
   "execution_count": 23,
   "id": "27948dcb-0c14-4c41-93e8-0b49d6c85fa8",
   "metadata": {},
   "outputs": [
    {
     "data": {
      "text/html": [
       "<div>\n",
       "<style scoped>\n",
       "    .dataframe tbody tr th:only-of-type {\n",
       "        vertical-align: middle;\n",
       "    }\n",
       "\n",
       "    .dataframe tbody tr th {\n",
       "        vertical-align: top;\n",
       "    }\n",
       "\n",
       "    .dataframe thead th {\n",
       "        text-align: right;\n",
       "    }\n",
       "</style>\n",
       "<table border=\"1\" class=\"dataframe\">\n",
       "  <thead>\n",
       "    <tr style=\"text-align: right;\">\n",
       "      <th></th>\n",
       "      <th>Season</th>\n",
       "      <th>TeamID</th>\n",
       "      <th>OtherTeam</th>\n",
       "      <th>Won</th>\n",
       "      <th>score</th>\n",
       "      <th>field-goal-pct</th>\n",
       "      <th>three-point-pct</th>\n",
       "      <th>free-throw-pct</th>\n",
       "      <th>off-rebounds</th>\n",
       "      <th>def-rebounds</th>\n",
       "      <th>assists</th>\n",
       "      <th>turnovers</th>\n",
       "      <th>steals</th>\n",
       "      <th>blocks</th>\n",
       "      <th>fouls</th>\n",
       "      <th>won</th>\n",
       "      <th>Seed</th>\n",
       "    </tr>\n",
       "  </thead>\n",
       "  <tbody>\n",
       "    <tr>\n",
       "      <th>0</th>\n",
       "      <td>2003</td>\n",
       "      <td>1421</td>\n",
       "      <td>1411</td>\n",
       "      <td>1</td>\n",
       "      <td>-9.208046</td>\n",
       "      <td>-0.041433</td>\n",
       "      <td>0.005866</td>\n",
       "      <td>0.111625</td>\n",
       "      <td>-2.681609</td>\n",
       "      <td>-1.588506</td>\n",
       "      <td>-3.260920</td>\n",
       "      <td>2.479310</td>\n",
       "      <td>-0.191954</td>\n",
       "      <td>-0.874713</td>\n",
       "      <td>3.747126</td>\n",
       "      <td>-0.151724</td>\n",
       "      <td>16</td>\n",
       "    </tr>\n",
       "    <tr>\n",
       "      <th>1</th>\n",
       "      <td>2003</td>\n",
       "      <td>1421</td>\n",
       "      <td>1400</td>\n",
       "      <td>0</td>\n",
       "      <td>-17.419951</td>\n",
       "      <td>-0.059047</td>\n",
       "      <td>-0.005234</td>\n",
       "      <td>0.026873</td>\n",
       "      <td>-4.698276</td>\n",
       "      <td>-3.798030</td>\n",
       "      <td>-6.113300</td>\n",
       "      <td>4.129310</td>\n",
       "      <td>-1.187192</td>\n",
       "      <td>-1.955665</td>\n",
       "      <td>0.520936</td>\n",
       "      <td>-0.337438</td>\n",
       "      <td>16</td>\n",
       "    </tr>\n",
       "    <tr>\n",
       "      <th>2</th>\n",
       "      <td>2003</td>\n",
       "      <td>1411</td>\n",
       "      <td>1421</td>\n",
       "      <td>0</td>\n",
       "      <td>9.208046</td>\n",
       "      <td>0.041433</td>\n",
       "      <td>-0.005866</td>\n",
       "      <td>-0.111625</td>\n",
       "      <td>2.681609</td>\n",
       "      <td>1.588506</td>\n",
       "      <td>3.260920</td>\n",
       "      <td>-2.479310</td>\n",
       "      <td>0.191954</td>\n",
       "      <td>0.874713</td>\n",
       "      <td>-3.747126</td>\n",
       "      <td>0.151724</td>\n",
       "      <td>16</td>\n",
       "    </tr>\n",
       "    <tr>\n",
       "      <th>3</th>\n",
       "      <td>2003</td>\n",
       "      <td>1112</td>\n",
       "      <td>1436</td>\n",
       "      <td>1</td>\n",
       "      <td>10.309113</td>\n",
       "      <td>0.022374</td>\n",
       "      <td>0.014799</td>\n",
       "      <td>0.101812</td>\n",
       "      <td>-1.307882</td>\n",
       "      <td>0.495074</td>\n",
       "      <td>1.247537</td>\n",
       "      <td>-3.140394</td>\n",
       "      <td>2.741379</td>\n",
       "      <td>2.511084</td>\n",
       "      <td>-2.286946</td>\n",
       "      <td>0.237685</td>\n",
       "      <td>1</td>\n",
       "    </tr>\n",
       "    <tr>\n",
       "      <th>4</th>\n",
       "      <td>2003</td>\n",
       "      <td>1112</td>\n",
       "      <td>1211</td>\n",
       "      <td>1</td>\n",
       "      <td>6.093318</td>\n",
       "      <td>0.008007</td>\n",
       "      <td>0.043958</td>\n",
       "      <td>0.059682</td>\n",
       "      <td>0.232719</td>\n",
       "      <td>0.034562</td>\n",
       "      <td>0.178571</td>\n",
       "      <td>-1.748848</td>\n",
       "      <td>2.596774</td>\n",
       "      <td>0.402074</td>\n",
       "      <td>-2.192396</td>\n",
       "      <td>0.150922</td>\n",
       "      <td>1</td>\n",
       "    </tr>\n",
       "  </tbody>\n",
       "</table>\n",
       "</div>"
      ],
      "text/plain": [
       "   Season  TeamID  OtherTeam  Won      score  field-goal-pct  three-point-pct  \\\n",
       "0    2003    1421       1411    1  -9.208046       -0.041433         0.005866   \n",
       "1    2003    1421       1400    0 -17.419951       -0.059047        -0.005234   \n",
       "2    2003    1411       1421    0   9.208046        0.041433        -0.005866   \n",
       "3    2003    1112       1436    1  10.309113        0.022374         0.014799   \n",
       "4    2003    1112       1211    1   6.093318        0.008007         0.043958   \n",
       "\n",
       "   free-throw-pct  off-rebounds  def-rebounds   assists  turnovers    steals  \\\n",
       "0        0.111625     -2.681609     -1.588506 -3.260920   2.479310 -0.191954   \n",
       "1        0.026873     -4.698276     -3.798030 -6.113300   4.129310 -1.187192   \n",
       "2       -0.111625      2.681609      1.588506  3.260920  -2.479310  0.191954   \n",
       "3        0.101812     -1.307882      0.495074  1.247537  -3.140394  2.741379   \n",
       "4        0.059682      0.232719      0.034562  0.178571  -1.748848  2.596774   \n",
       "\n",
       "     blocks     fouls       won  Seed  \n",
       "0 -0.874713  3.747126 -0.151724    16  \n",
       "1 -1.955665  0.520936 -0.337438    16  \n",
       "2  0.874713 -3.747126  0.151724    16  \n",
       "3  2.511084 -2.286946  0.237685     1  \n",
       "4  0.402074 -2.192396  0.150922     1  "
      ]
     },
     "execution_count": 23,
     "metadata": {},
     "output_type": "execute_result"
    }
   ],
   "source": [
    "finalDf.head()"
   ]
  },
  {
   "cell_type": "markdown",
   "id": "4abd8eb7-eb8c-497f-9cd1-fd7e36475750",
   "metadata": {},
   "source": [
    "## Creating features from public rankings"
   ]
  },
  {
   "cell_type": "code",
   "execution_count": 24,
   "id": "31e69add-756a-475e-aa6c-da09a7eca1ac",
   "metadata": {},
   "outputs": [],
   "source": [
    "# Useful for our analysis.\n",
    "rankings = pd.read_csv('MMasseyOrdinals.csv')"
   ]
  },
  {
   "cell_type": "code",
   "execution_count": 25,
   "id": "0cce8977-0ad4-475b-a769-a900aa8ce8e9",
   "metadata": {},
   "outputs": [],
   "source": [
    "lastRanking = rankings [ rankings['RankingDayNum'] == 133 ]\n",
    "\n",
    "r = lastRanking.groupby(['Season', 'TeamID']).mean().reset_index().drop(columns='RankingDayNum')"
   ]
  },
  {
   "cell_type": "code",
   "execution_count": 26,
   "id": "6ef0ad5b-d3ae-430c-ba8c-c2ab1a546796",
   "metadata": {},
   "outputs": [],
   "source": [
    "finalDf = finalDf.merge(r, on=['Season', 'TeamID'], how='inner')"
   ]
  },
  {
   "cell_type": "markdown",
   "id": "3607e944-0b5b-439f-94aa-f500526032db",
   "metadata": {
    "tags": []
   },
   "source": [
    "## Fitting Models"
   ]
  },
  {
   "cell_type": "code",
   "execution_count": 56,
   "id": "1924d65e-73f7-4e4c-b9ca-cbcca8236c98",
   "metadata": {},
   "outputs": [],
   "source": [
    "from sklearn.linear_model import LogisticRegression\n",
    "from sklearn.ensemble import RandomForestClassifier\n",
    "from sklearn.model_selection import LeaveOneOut\n",
    "from sklearn.model_selection import cross_val_score\n",
    "from sklearn.model_selection import cross_validate\n",
    "from sklearn.model_selection import cross_val_predict\n",
    "from xgboost import XGBClassifier\n",
    "from sklearn.metrics import log_loss"
   ]
  },
  {
   "cell_type": "code",
   "execution_count": 45,
   "id": "3a64400f-8813-40b0-b6ae-bc7d50ad3eb6",
   "metadata": {},
   "outputs": [
    {
     "data": {
      "text/plain": [
       "0.22708064055624455"
      ]
     },
     "execution_count": 45,
     "metadata": {},
     "output_type": "execute_result"
    }
   ],
   "source": [
    "log_loss([1,0,1,0], [0.7, 0.1, 0.8, 0.2])"
   ]
  },
  {
   "cell_type": "code",
   "execution_count": 34,
   "id": "b2754bb4-07e2-49e7-954a-166f385b7ec3",
   "metadata": {},
   "outputs": [],
   "source": [
    "X = finalDf.iloc[:, 4:].values\n",
    "y = finalDf['Won'].values"
   ]
  },
  {
   "cell_type": "code",
   "execution_count": 48,
   "id": "45d5786c-ab2e-4b2d-b5b6-1c5cd8bd6501",
   "metadata": {},
   "outputs": [
    {
     "data": {
      "text/plain": [
       "array([1, 0, 0, ..., 0, 1, 0], dtype=int64)"
      ]
     },
     "execution_count": 48,
     "metadata": {},
     "output_type": "execute_result"
    }
   ],
   "source": [
    "y"
   ]
  },
  {
   "cell_type": "code",
   "execution_count": 64,
   "id": "62f12694-f95f-45d3-a4a0-6a820804bc35",
   "metadata": {},
   "outputs": [],
   "source": [
    "def runCrossValidationUsingLogLoss(model, X, y):\n",
    "    accuracyList = cross_val_score(model, X, y, scoring='neg_log_loss', cv=10)\n",
    "    return accuracyList"
   ]
  },
  {
   "cell_type": "code",
   "execution_count": 65,
   "id": "f4a38c22-0e56-4316-95d4-ded4e83c64e6",
   "metadata": {},
   "outputs": [],
   "source": [
    "def crossValidationLogLossAgain(model, X, y):\n",
    "    preds = cross_val_predict(model, X, y, cv=10, method='predict_proba')\n",
    "    preds = vals[:, 0]\n",
    "    return log_loss(y, preds)"
   ]
  },
  {
   "cell_type": "markdown",
   "id": "b847f051-9dab-40d5-9e05-30d202f93d58",
   "metadata": {},
   "source": [
    "## Logistic Regression"
   ]
  },
  {
   "cell_type": "code",
   "execution_count": 66,
   "id": "9898a75c-5b5a-4fb4-954e-9e4f1124b93e",
   "metadata": {},
   "outputs": [
    {
     "data": {
      "text/plain": [
       "1.140351361294491"
      ]
     },
     "execution_count": 66,
     "metadata": {},
     "output_type": "execute_result"
    }
   ],
   "source": [
    "model = LogisticRegression(max_iter=1000)\n",
    "crossValidationLogLossAgain(model, X, y)"
   ]
  },
  {
   "cell_type": "markdown",
   "id": "747fc3ba-4a76-411e-a45c-5de7e67b0ce0",
   "metadata": {},
   "source": [
    "## Random Forest Classifier"
   ]
  },
  {
   "cell_type": "code",
   "execution_count": 67,
   "id": "4b0ecbea-019b-428c-9636-25dc182838b5",
   "metadata": {},
   "outputs": [
    {
     "data": {
      "text/plain": [
       "1.140351361294491"
      ]
     },
     "execution_count": 67,
     "metadata": {},
     "output_type": "execute_result"
    }
   ],
   "source": [
    "model = RandomForestClassifier(n_estimators=200)\n",
    "crossValidationLogLossAgain(model, X, y)"
   ]
  },
  {
   "cell_type": "markdown",
   "id": "dc8d66e1-97f4-4e65-9a40-f5671e9eae70",
   "metadata": {},
   "source": [
    "## XGB Classifier"
   ]
  },
  {
   "cell_type": "code",
   "execution_count": 68,
   "id": "9b5f41ca-eb24-4937-affa-193d898cabe3",
   "metadata": {},
   "outputs": [
    {
     "name": "stderr",
     "output_type": "stream",
     "text": [
      "C:\\Users\\sacky\\Anaconda3\\lib\\site-packages\\xgboost\\sklearn.py:1224: UserWarning: The use of label encoder in XGBClassifier is deprecated and will be removed in a future release. To remove this warning, do the following: 1) Pass option use_label_encoder=False when constructing XGBClassifier object; and 2) Encode your labels (y) as integers starting with 0, i.e. 0, 1, 2, ..., [num_class - 1].\n",
      "  warnings.warn(label_encoder_deprecation_msg, UserWarning)\n"
     ]
    },
    {
     "name": "stdout",
     "output_type": "stream",
     "text": [
      "[00:56:54] WARNING: C:/Users/Administrator/workspace/xgboost-win64_release_1.5.1/src/learner.cc:1115: Starting in XGBoost 1.3.0, the default evaluation metric used with the objective 'binary:logistic' was changed from 'error' to 'logloss'. Explicitly set eval_metric if you'd like to restore the old behavior.\n"
     ]
    },
    {
     "name": "stderr",
     "output_type": "stream",
     "text": [
      "C:\\Users\\sacky\\Anaconda3\\lib\\site-packages\\xgboost\\sklearn.py:1224: UserWarning: The use of label encoder in XGBClassifier is deprecated and will be removed in a future release. To remove this warning, do the following: 1) Pass option use_label_encoder=False when constructing XGBClassifier object; and 2) Encode your labels (y) as integers starting with 0, i.e. 0, 1, 2, ..., [num_class - 1].\n",
      "  warnings.warn(label_encoder_deprecation_msg, UserWarning)\n"
     ]
    },
    {
     "name": "stdout",
     "output_type": "stream",
     "text": [
      "[00:56:55] WARNING: C:/Users/Administrator/workspace/xgboost-win64_release_1.5.1/src/learner.cc:1115: Starting in XGBoost 1.3.0, the default evaluation metric used with the objective 'binary:logistic' was changed from 'error' to 'logloss'. Explicitly set eval_metric if you'd like to restore the old behavior.\n"
     ]
    },
    {
     "name": "stderr",
     "output_type": "stream",
     "text": [
      "C:\\Users\\sacky\\Anaconda3\\lib\\site-packages\\xgboost\\sklearn.py:1224: UserWarning: The use of label encoder in XGBClassifier is deprecated and will be removed in a future release. To remove this warning, do the following: 1) Pass option use_label_encoder=False when constructing XGBClassifier object; and 2) Encode your labels (y) as integers starting with 0, i.e. 0, 1, 2, ..., [num_class - 1].\n",
      "  warnings.warn(label_encoder_deprecation_msg, UserWarning)\n"
     ]
    },
    {
     "name": "stdout",
     "output_type": "stream",
     "text": [
      "[00:56:57] WARNING: C:/Users/Administrator/workspace/xgboost-win64_release_1.5.1/src/learner.cc:1115: Starting in XGBoost 1.3.0, the default evaluation metric used with the objective 'binary:logistic' was changed from 'error' to 'logloss'. Explicitly set eval_metric if you'd like to restore the old behavior.\n"
     ]
    },
    {
     "name": "stderr",
     "output_type": "stream",
     "text": [
      "C:\\Users\\sacky\\Anaconda3\\lib\\site-packages\\xgboost\\sklearn.py:1224: UserWarning: The use of label encoder in XGBClassifier is deprecated and will be removed in a future release. To remove this warning, do the following: 1) Pass option use_label_encoder=False when constructing XGBClassifier object; and 2) Encode your labels (y) as integers starting with 0, i.e. 0, 1, 2, ..., [num_class - 1].\n",
      "  warnings.warn(label_encoder_deprecation_msg, UserWarning)\n"
     ]
    },
    {
     "name": "stdout",
     "output_type": "stream",
     "text": [
      "[00:56:58] WARNING: C:/Users/Administrator/workspace/xgboost-win64_release_1.5.1/src/learner.cc:1115: Starting in XGBoost 1.3.0, the default evaluation metric used with the objective 'binary:logistic' was changed from 'error' to 'logloss'. Explicitly set eval_metric if you'd like to restore the old behavior.\n"
     ]
    },
    {
     "name": "stderr",
     "output_type": "stream",
     "text": [
      "C:\\Users\\sacky\\Anaconda3\\lib\\site-packages\\xgboost\\sklearn.py:1224: UserWarning: The use of label encoder in XGBClassifier is deprecated and will be removed in a future release. To remove this warning, do the following: 1) Pass option use_label_encoder=False when constructing XGBClassifier object; and 2) Encode your labels (y) as integers starting with 0, i.e. 0, 1, 2, ..., [num_class - 1].\n",
      "  warnings.warn(label_encoder_deprecation_msg, UserWarning)\n"
     ]
    },
    {
     "name": "stdout",
     "output_type": "stream",
     "text": [
      "[00:56:59] WARNING: C:/Users/Administrator/workspace/xgboost-win64_release_1.5.1/src/learner.cc:1115: Starting in XGBoost 1.3.0, the default evaluation metric used with the objective 'binary:logistic' was changed from 'error' to 'logloss'. Explicitly set eval_metric if you'd like to restore the old behavior.\n"
     ]
    },
    {
     "name": "stderr",
     "output_type": "stream",
     "text": [
      "C:\\Users\\sacky\\Anaconda3\\lib\\site-packages\\xgboost\\sklearn.py:1224: UserWarning: The use of label encoder in XGBClassifier is deprecated and will be removed in a future release. To remove this warning, do the following: 1) Pass option use_label_encoder=False when constructing XGBClassifier object; and 2) Encode your labels (y) as integers starting with 0, i.e. 0, 1, 2, ..., [num_class - 1].\n",
      "  warnings.warn(label_encoder_deprecation_msg, UserWarning)\n"
     ]
    },
    {
     "name": "stdout",
     "output_type": "stream",
     "text": [
      "[00:57:00] WARNING: C:/Users/Administrator/workspace/xgboost-win64_release_1.5.1/src/learner.cc:1115: Starting in XGBoost 1.3.0, the default evaluation metric used with the objective 'binary:logistic' was changed from 'error' to 'logloss'. Explicitly set eval_metric if you'd like to restore the old behavior.\n"
     ]
    },
    {
     "name": "stderr",
     "output_type": "stream",
     "text": [
      "C:\\Users\\sacky\\Anaconda3\\lib\\site-packages\\xgboost\\sklearn.py:1224: UserWarning: The use of label encoder in XGBClassifier is deprecated and will be removed in a future release. To remove this warning, do the following: 1) Pass option use_label_encoder=False when constructing XGBClassifier object; and 2) Encode your labels (y) as integers starting with 0, i.e. 0, 1, 2, ..., [num_class - 1].\n",
      "  warnings.warn(label_encoder_deprecation_msg, UserWarning)\n"
     ]
    },
    {
     "name": "stdout",
     "output_type": "stream",
     "text": [
      "[00:57:02] WARNING: C:/Users/Administrator/workspace/xgboost-win64_release_1.5.1/src/learner.cc:1115: Starting in XGBoost 1.3.0, the default evaluation metric used with the objective 'binary:logistic' was changed from 'error' to 'logloss'. Explicitly set eval_metric if you'd like to restore the old behavior.\n"
     ]
    },
    {
     "name": "stderr",
     "output_type": "stream",
     "text": [
      "C:\\Users\\sacky\\Anaconda3\\lib\\site-packages\\xgboost\\sklearn.py:1224: UserWarning: The use of label encoder in XGBClassifier is deprecated and will be removed in a future release. To remove this warning, do the following: 1) Pass option use_label_encoder=False when constructing XGBClassifier object; and 2) Encode your labels (y) as integers starting with 0, i.e. 0, 1, 2, ..., [num_class - 1].\n",
      "  warnings.warn(label_encoder_deprecation_msg, UserWarning)\n"
     ]
    },
    {
     "name": "stdout",
     "output_type": "stream",
     "text": [
      "[00:57:03] WARNING: C:/Users/Administrator/workspace/xgboost-win64_release_1.5.1/src/learner.cc:1115: Starting in XGBoost 1.3.0, the default evaluation metric used with the objective 'binary:logistic' was changed from 'error' to 'logloss'. Explicitly set eval_metric if you'd like to restore the old behavior.\n"
     ]
    },
    {
     "name": "stderr",
     "output_type": "stream",
     "text": [
      "C:\\Users\\sacky\\Anaconda3\\lib\\site-packages\\xgboost\\sklearn.py:1224: UserWarning: The use of label encoder in XGBClassifier is deprecated and will be removed in a future release. To remove this warning, do the following: 1) Pass option use_label_encoder=False when constructing XGBClassifier object; and 2) Encode your labels (y) as integers starting with 0, i.e. 0, 1, 2, ..., [num_class - 1].\n",
      "  warnings.warn(label_encoder_deprecation_msg, UserWarning)\n"
     ]
    },
    {
     "name": "stdout",
     "output_type": "stream",
     "text": [
      "[00:57:04] WARNING: C:/Users/Administrator/workspace/xgboost-win64_release_1.5.1/src/learner.cc:1115: Starting in XGBoost 1.3.0, the default evaluation metric used with the objective 'binary:logistic' was changed from 'error' to 'logloss'. Explicitly set eval_metric if you'd like to restore the old behavior.\n"
     ]
    },
    {
     "name": "stderr",
     "output_type": "stream",
     "text": [
      "C:\\Users\\sacky\\Anaconda3\\lib\\site-packages\\xgboost\\sklearn.py:1224: UserWarning: The use of label encoder in XGBClassifier is deprecated and will be removed in a future release. To remove this warning, do the following: 1) Pass option use_label_encoder=False when constructing XGBClassifier object; and 2) Encode your labels (y) as integers starting with 0, i.e. 0, 1, 2, ..., [num_class - 1].\n",
      "  warnings.warn(label_encoder_deprecation_msg, UserWarning)\n"
     ]
    },
    {
     "name": "stdout",
     "output_type": "stream",
     "text": [
      "[00:57:05] WARNING: C:/Users/Administrator/workspace/xgboost-win64_release_1.5.1/src/learner.cc:1115: Starting in XGBoost 1.3.0, the default evaluation metric used with the objective 'binary:logistic' was changed from 'error' to 'logloss'. Explicitly set eval_metric if you'd like to restore the old behavior.\n"
     ]
    },
    {
     "data": {
      "text/plain": [
       "1.140351361294491"
      ]
     },
     "execution_count": 68,
     "metadata": {},
     "output_type": "execute_result"
    }
   ],
   "source": [
    "model = XGBClassifier(n_estimators=200)\n",
    "crossValidationLogLossAgain(model, X, y)"
   ]
  },
  {
   "cell_type": "code",
   "execution_count": 69,
   "id": "5f258547-2e6b-4781-aa72-4a84f3c0eef8",
   "metadata": {},
   "outputs": [],
   "source": [
    "from sklearn.neural_network import MLPClassifier"
   ]
  },
  {
   "cell_type": "code",
   "execution_count": 71,
   "id": "eea1119e-2e8d-42a1-b299-25dfd894b25e",
   "metadata": {},
   "outputs": [
    {
     "name": "stderr",
     "output_type": "stream",
     "text": [
      "C:\\Users\\sacky\\Anaconda3\\lib\\site-packages\\sklearn\\neural_network\\_multilayer_perceptron.py:696: ConvergenceWarning: Stochastic Optimizer: Maximum iterations (200) reached and the optimization hasn't converged yet.\n",
      "  ConvergenceWarning,\n",
      "C:\\Users\\sacky\\Anaconda3\\lib\\site-packages\\sklearn\\neural_network\\_multilayer_perceptron.py:696: ConvergenceWarning: Stochastic Optimizer: Maximum iterations (200) reached and the optimization hasn't converged yet.\n",
      "  ConvergenceWarning,\n",
      "C:\\Users\\sacky\\Anaconda3\\lib\\site-packages\\sklearn\\neural_network\\_multilayer_perceptron.py:696: ConvergenceWarning: Stochastic Optimizer: Maximum iterations (200) reached and the optimization hasn't converged yet.\n",
      "  ConvergenceWarning,\n",
      "C:\\Users\\sacky\\Anaconda3\\lib\\site-packages\\sklearn\\neural_network\\_multilayer_perceptron.py:696: ConvergenceWarning: Stochastic Optimizer: Maximum iterations (200) reached and the optimization hasn't converged yet.\n",
      "  ConvergenceWarning,\n",
      "C:\\Users\\sacky\\Anaconda3\\lib\\site-packages\\sklearn\\neural_network\\_multilayer_perceptron.py:696: ConvergenceWarning: Stochastic Optimizer: Maximum iterations (200) reached and the optimization hasn't converged yet.\n",
      "  ConvergenceWarning,\n",
      "C:\\Users\\sacky\\Anaconda3\\lib\\site-packages\\sklearn\\neural_network\\_multilayer_perceptron.py:696: ConvergenceWarning: Stochastic Optimizer: Maximum iterations (200) reached and the optimization hasn't converged yet.\n",
      "  ConvergenceWarning,\n"
     ]
    },
    {
     "data": {
      "text/plain": [
       "1.140351361294491"
      ]
     },
     "execution_count": 71,
     "metadata": {},
     "output_type": "execute_result"
    }
   ],
   "source": [
    "model = MLPClassifier()\n",
    "crossValidationLogLossAgain(model, X, y)"
   ]
  }
 ],
 "metadata": {
  "kernelspec": {
   "display_name": "Python 3 (ipykernel)",
   "language": "python",
   "name": "python3"
  },
  "language_info": {
   "codemirror_mode": {
    "name": "ipython",
    "version": 3
   },
   "file_extension": ".py",
   "mimetype": "text/x-python",
   "name": "python",
   "nbconvert_exporter": "python",
   "pygments_lexer": "ipython3",
   "version": "3.7.4"
  }
 },
 "nbformat": 4,
 "nbformat_minor": 5
}
